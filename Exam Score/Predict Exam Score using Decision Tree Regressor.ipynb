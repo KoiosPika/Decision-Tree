{
 "cells": [
  {
   "cell_type": "code",
   "execution_count": 41,
   "id": "c85d83b3",
   "metadata": {},
   "outputs": [
    {
     "name": "stdout",
     "output_type": "stream",
     "text": [
      "R squared =  0.8741168103249805\n",
      "mse train =  15.87388348240922\n",
      "mse test =  21.341971622804504\n",
      "mse cv =  22.61893828804039\n"
     ]
    }
   ],
   "source": [
    "import numpy as np\n",
    "import pandas as pd\n",
    "from sklearn.preprocessing import StandardScaler\n",
    "from sklearn.tree import DecisionTreeRegressor\n",
    "from sklearn.model_selection import train_test_split, cross_val_score\n",
    "from sklearn.metrics import mean_squared_error\n",
    "\n",
    "#get the data\n",
    "data = pd.read_csv('exams.csv')\n",
    "df = pd.DataFrame(data)\n",
    "\n",
    "#split data into X and y\n",
    "X = df.drop(columns = ['reading score'])\n",
    "y = df['reading score']\n",
    "\n",
    "#split into numeric and non numeric columns\n",
    "non_numeric = X.select_dtypes(include=['object']).columns.tolist()\n",
    "numeric = X.select_dtypes(include=['int64','float64']).columns.tolist()\n",
    "\n",
    "#encode data\n",
    "df_encoded = pd.get_dummies(X,columns = non_numeric)\n",
    "X = pd.concat([df_encoded,df[numeric]],axis=1)\n",
    "\n",
    "#scale data\n",
    "scaler = StandardScaler()\n",
    "X = scaler.fit_transform(X)\n",
    "\n",
    "#split data into train and test\n",
    "X_train, X_test, y_train, y_test = train_test_split(X, y, test_size=0.2, random_state=42)\n",
    "\n",
    "#define a model\n",
    "model = DecisionTreeRegressor(max_depth = 5)\n",
    "model.fit(X_train,y_train)\n",
    "\n",
    "#make predictions\n",
    "y_train_pred = model.predict(X_train)\n",
    "y_test_pred = model.predict(X_test)\n",
    "R_squared = model.score(X_test,y_test)\n",
    "\n",
    "#get cross_validation_score\n",
    "cv = -cross_val_score(model,X,y,scoring = 'neg_mean_squared_error',cv = 5)\n",
    "\n",
    "#get mean squared error\n",
    "mse_train = mean_squared_error(y_train,y_train_pred)\n",
    "mse_test = mean_squared_error(y_test,y_test_pred)\n",
    "mse_cv = np.mean(cv)\n",
    "\n",
    "#print\n",
    "print('R squared = ',R_squared)\n",
    "print('mse train = ',mse_train)\n",
    "print('mse test = ',mse_test)\n",
    "print('mse cv = ',mse_cv)"
   ]
  },
  {
   "cell_type": "code",
   "execution_count": null,
   "id": "ec54395e",
   "metadata": {},
   "outputs": [],
   "source": []
  }
 ],
 "metadata": {
  "kernelspec": {
   "display_name": "Python 3 (ipykernel)",
   "language": "python",
   "name": "python3"
  },
  "language_info": {
   "codemirror_mode": {
    "name": "ipython",
    "version": 3
   },
   "file_extension": ".py",
   "mimetype": "text/x-python",
   "name": "python",
   "nbconvert_exporter": "python",
   "pygments_lexer": "ipython3",
   "version": "3.10.6"
  }
 },
 "nbformat": 4,
 "nbformat_minor": 5
}
